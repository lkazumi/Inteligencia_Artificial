{
  "nbformat": 4,
  "nbformat_minor": 0,
  "metadata": {
    "colab": {
      "name": "Aula 2 - Inteligencia Artificial 18/08/2020 - IrisPlant.ipynb",
      "provenance": [],
      "collapsed_sections": [],
      "authorship_tag": "ABX9TyPFEMzfCdLXpj7U7RqNTMp2",
      "include_colab_link": true
    },
    "kernelspec": {
      "name": "python3",
      "display_name": "Python 3"
    }
  },
  "cells": [
    {
      "cell_type": "markdown",
      "metadata": {
        "id": "view-in-github",
        "colab_type": "text"
      },
      "source": [
        "<a href=\"https://colab.research.google.com/github/lkazumi/Inteligencia_Artificial/blob/master/Aula_2_Inteligencia_Artificial_18_08_2020_IrisPlant.ipynb\" target=\"_parent\"><img src=\"https://colab.research.google.com/assets/colab-badge.svg\" alt=\"Open In Colab\"/></a>"
      ]
    },
    {
      "cell_type": "markdown",
      "metadata": {
        "id": "JaTLKNOW30fK",
        "colab_type": "text"
      },
      "source": [
        "Importação do Dataset e Carregamento\n",
        "\n"
      ]
    },
    {
      "cell_type": "code",
      "metadata": {
        "id": "Aft73St62D_D",
        "colab_type": "code",
        "colab": {}
      },
      "source": [
        "from sklearn.datasets import load_iris"
      ],
      "execution_count": 7,
      "outputs": []
    },
    {
      "cell_type": "code",
      "metadata": {
        "id": "ibTGR8oG6lRL",
        "colab_type": "code",
        "colab": {}
      },
      "source": [
        "iris = load_iris() "
      ],
      "execution_count": 10,
      "outputs": []
    },
    {
      "cell_type": "code",
      "metadata": {
        "id": "CJEmQcZS3_D5",
        "colab_type": "code",
        "colab": {}
      },
      "source": [
        "print (iris.data)"
      ],
      "execution_count": null,
      "outputs": []
    },
    {
      "cell_type": "markdown",
      "metadata": {
        "id": "z0putOPC90G4",
        "colab_type": "text"
      },
      "source": [
        "Linhas e Colunas"
      ]
    },
    {
      "cell_type": "code",
      "metadata": {
        "id": "BYJB6RXv6cy6",
        "colab_type": "code",
        "colab": {}
      },
      "source": [
        "print (iris.data.shape)"
      ],
      "execution_count": null,
      "outputs": []
    },
    {
      "cell_type": "code",
      "metadata": {
        "id": "irwByFko62m7",
        "colab_type": "code",
        "colab": {}
      },
      "source": [
        "print (iris.feature_names)"
      ],
      "execution_count": null,
      "outputs": []
    },
    {
      "cell_type": "code",
      "metadata": {
        "id": "jqEy4hZk8BKd",
        "colab_type": "code",
        "colab": {}
      },
      "source": [
        "print (iris.target_names)"
      ],
      "execution_count": null,
      "outputs": []
    },
    {
      "cell_type": "code",
      "metadata": {
        "id": "QiqR7sYH94cp",
        "colab_type": "code",
        "colab": {}
      },
      "source": [
        "print (iris.DESCR)"
      ],
      "execution_count": null,
      "outputs": []
    }
  ]
}